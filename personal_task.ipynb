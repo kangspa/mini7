{
 "cells": [
  {
   "cell_type": "code",
   "execution_count": 1,
   "metadata": {},
   "outputs": [],
   "source": [
    "from bs4 import BeautifulSoup\n",
    "import requests"
   ]
  },
  {
   "cell_type": "code",
   "execution_count": 19,
   "metadata": {},
   "outputs": [],
   "source": [
    "import pandas as pd\n",
    "\n",
    "data = pd.DataFrame(columns=['Text'])"
   ]
  },
  {
   "cell_type": "code",
   "execution_count": 24,
   "metadata": {},
   "outputs": [
    {
     "data": {
      "text/plain": [
       "<Response [200]>"
      ]
     },
     "execution_count": 24,
     "metadata": {},
     "output_type": "execute_result"
    }
   ],
   "source": [
    "url='https://blog.naver.com/PostView.naver?blogId=kyudori46&logNo=223353474363&redirect=Dlog&widgetTypeCall=true&noTrackingCode=true&directAccess=false'\n",
    "response = requests.get(url)\n",
    "response"
   ]
  },
  {
   "cell_type": "code",
   "execution_count": 28,
   "metadata": {},
   "outputs": [
    {
     "data": {
      "text/plain": [
       "bs4.BeautifulSoup"
      ]
     },
     "execution_count": 28,
     "metadata": {},
     "output_type": "execute_result"
    }
   ],
   "source": [
    "dom = BeautifulSoup(response.text, 'html.parser')\n",
    "type(dom)"
   ]
  },
  {
   "cell_type": "code",
   "execution_count": 39,
   "metadata": {},
   "outputs": [
    {
     "data": {
      "text/plain": [
       "['[KT 에이블스쿨 5기] 서류지원/인적성/코딩테스트/ 최종합격',\n",
       " '24년 2월 졸업을 앞두고 취업 준비 기간 동안 공백기를 의미 있게 보내기 위해 IT 관련 교육을 찾았습니다.\\u200b개인적인 SSAFY와 현대오토에버 모빌리티 임베디드 SW 스쿨을 희망했으나 불합격하고 추가로 우테코, 디지털 하나로 등도 지원했지만 역시나 불. 합. 격\\u200b그러던 중 발견한',\n",
       " 'KT AIVLE School',\n",
       " '제 전공은 전자공학(임베디드) + 컴퓨터과학(부전공) 이었기 때문에 AI가 의미가 있을까 하는 생각이 더 많았습니다.AI 산업 군 특성상 석사 이상의 스펙을 요구하기도 하고...그래서 엄청 내키지는 않았지만그래도 선택지가 없었기 때문에 그냥 지원했습니다.\\u200bAI Track과 DX Track이 있는데,저는 전자공학이지만 졸프를 웹 개발로 하기도 했고, EDA 및 AI 경험도 있어서 AI Track으로 지원했습니다.학교를 다니며 개발은 자주 해봤고, 얉게 많이 배우곤 했습니다.그래서 잘할 자신은 없는데 크게 못할 거 같지도 않았습니다.',\n",
       " '교육 과정',\n",
       " '배우게 될 것들',\n",
       " '\\u200b지원 과정은 서류, 인적성 시험이 있고, AI Track은 코딩 역량이 필요하기 때문에 코딩 테스트도 봅니다.',\n",
       " '선발 Process',\n",
       " '사실 다른 거보다',\n",
       " '채용 연계 계열사',\n",
       " '사실 채용 연계가 메리트가 있다고 생각해서 지원한 게 가장 큽니다.\\u200b',\n",
       " '여튼 그래서 지원서를 작성하게 되었고, 문항은 2개였습니다.\\u200b문항 1. [지원 동기] 에이블 스쿨에 지원하게 된 이유와, 앞으로 AI/DX 분야에서 어떠한 인재로 성장하고 싶은지 향후 계획, 포부에 대해 작성해 주세요. (800자)-> 지원 이유로는 요즘 AI가 대세고 개발을 하는데 AI를 모르면 치명적일 것 같다!그래서 배워보고 싶다 이런 느낌으로 적었습니다. 입사 지원서가 아니다 보니 편하게 제 의지를 좀 어필하는 느낌이었습니다. \\u200b문항 2.[직무경험] 본인의 성장, 취업을 위해 노력한 활동(공모전, 프로젝트, 인턴 등)과 이를 통해 얻은 결과 및 소감에 대해 작성해 주세요. (800자)-> 저는 학교에서 KT 직원분들이 방문해서 강의해 주시는 수업(3학점)을 들은 적이 있습니다. 그래서 그때 경험을 잘 풀어서 작성했고, 교내 데이터 분석 공모전이랑 AI로 한이음 프로젝트 했던 걸 잘 적었던 것 같습니다.\\u200b제 스펙은 정처기, 단기 일 경험 1달, 한이음 공모전 입선 2회, 교내 IT 공모전 3~4회 수상 정도였습니다.면접 절차가 없는걸 알았기에, 이후에 면접으로 제 경험을 검증받지 않는다는 것을 알고 있어서(거짓말은 하지 않았습니다.)여러 다수의 대회 수상 경력이 있으니, 교육도 잘 해낼 것이라는 식으로 어필을 했습니다.\\u200b',\n",
       " '서류 합격',\n",
       " '결과는 합격이었습니다.\\u200b이후 절차는 인적성 + 코테이고 이걸 넘어서면 합격이었습니다.  개발자는 보통 서류는 잘 넘기고, 코테에서 떨어뜨리는 것을 알고 있기 때문에 코테 공부를 하긴 했습니다.당시에 C++로 공부를 하고 있었기 때문에 C++로 준비했고, 인프런 강좌 들으면서 공부했습니다. (광고 아님)\\u200b아 그리고 인적성..',\n",
       " '인적성 서적',\n",
       " '인적성을 본다고는 했는데 솔직히 책까지 사서 봐야 할까라는 생각에 준비 안 하고 유형도 하나도 모르고 들어갔습니다.이게 내용은 발설을 못하지만 인적성에 대한 제 의견은, 시험 시간이 길고 과목이 많고 문항도 많은데 이걸 노트북 모니터로 암산으로 풀어야 하기 때문에... (컴퓨터 메모장으로는 사실상 못씁니다.) 전 조금 버거웠습니다.DX Track이신 분들은 책 사서 풀어보시는 게 좋을 것 같고 AI Track은 코테 준비 더 하시는 걸 추천드립니다.모르는 건 찍으면 감점이 있을 거 같아서 정적하게 냈다는...\\u200b여튼... 지루한 KT 인적성은 그렇게 보냈고programmers로 코딩 테스트를 응시했습니다.3문제 봤고C++로 봤고 1문제는 정말 기초 너 코딩해 보긴 했니? 정도고 2문제는 그래도 적당항 알고리즘 문제였습니다.엄청 어렵진 않고 열심히 하면 될 것 같아요.(필자는 백준 실버입니다.)\\u200b',\n",
       " '최종 합격',\n",
       " '네 그렇게 기다리니 최종 합격을 했습니다.\\u200b선발을 정말 많이 하다 보니 그렇게 많이 경쟁률이 높진 않은 것 같습니다.그러나 가끔 보면 불합격 사례가 나오니 신경은 써주셔야 할 것 같아요.6개월간 월에 훈련장려금으로 30만 원씩 준다는 점.KT 취업 연계가 있다는 점.(기대는 하지 말라고 하더라고요.)등이 메리트가 있어서 열심히 수강하기로 했습니다.\\u200b궁금한 내용이 있으면 댓글 남겨주시면 글 남겨드릴게요.\\u200b감사합니다.']"
      ]
     },
     "execution_count": 39,
     "metadata": {},
     "output_type": "execute_result"
    }
   ],
   "source": [
    "elements = dom.select('.se-module-text')\n",
    "text = [element.text.strip() for element in elements]\n",
    "\n",
    "text"
   ]
  },
  {
   "cell_type": "code",
   "execution_count": 42,
   "metadata": {},
   "outputs": [
    {
     "name": "stdout",
     "output_type": "stream",
     "text": [
      "[KT 에이블스쿨 5기] 서류지원/인적성/코딩테스트/ 최종합격\n",
      "24년 2월 졸업을 앞두고 취업 준비 기간 동안 공백기를 의미 있게 보내기 위해 IT 관련 교육을 찾았습니다.​개인적인 SSAFY와 현대오토에버 모빌리티 임베디드 SW 스쿨을 희망했으나 불합격하고 추가로 우테코, 디지털 하나로 등도 지원했지만 역시나 불. 합. 격​그러던 중 발견한\n",
      "KT AIVLE School\n",
      "제 전공은 전자공학(임베디드) + 컴퓨터과학(부전공) 이었기 때문에 AI가 의미가 있을까 하는 생각이 더 많았습니다.AI 산업 군 특성상 석사 이상의 스펙을 요구하기도 하고...그래서 엄청 내키지는 않았지만그래도 선택지가 없었기 때문에 그냥 지원했습니다.​AI Track과 DX Track이 있는데,저는 전자공학이지만 졸프를 웹 개발로 하기도 했고, EDA 및 AI 경험도 있어서 AI Track으로 지원했습니다.학교를 다니며 개발은 자주 해봤고, 얉게 많이 배우곤 했습니다.그래서 잘할 자신은 없는데 크게 못할 거 같지도 않았습니다.\n",
      "교육 과정\n",
      "배우게 될 것들\n",
      "​지원 과정은 서류, 인적성 시험이 있고, AI Track은 코딩 역량이 필요하기 때문에 코딩 테스트도 봅니다.\n",
      "선발 Process\n",
      "사실 다른 거보다\n",
      "채용 연계 계열사\n",
      "사실 채용 연계가 메리트가 있다고 생각해서 지원한 게 가장 큽니다.​\n",
      "여튼 그래서 지원서를 작성하게 되었고, 문항은 2개였습니다.​문항 1. [지원 동기] 에이블 스쿨에 지원하게 된 이유와, 앞으로 AI/DX 분야에서 어떠한 인재로 성장하고 싶은지 향후 계획, 포부에 대해 작성해 주세요. (800자)-> 지원 이유로는 요즘 AI가 대세고 개발을 하는데 AI를 모르면 치명적일 것 같다!그래서 배워보고 싶다 이런 느낌으로 적었습니다. 입사 지원서가 아니다 보니 편하게 제 의지를 좀 어필하는 느낌이었습니다. ​문항 2.[직무경험] 본인의 성장, 취업을 위해 노력한 활동(공모전, 프로젝트, 인턴 등)과 이를 통해 얻은 결과 및 소감에 대해 작성해 주세요. (800자)-> 저는 학교에서 KT 직원분들이 방문해서 강의해 주시는 수업(3학점)을 들은 적이 있습니다. 그래서 그때 경험을 잘 풀어서 작성했고, 교내 데이터 분석 공모전이랑 AI로 한이음 프로젝트 했던 걸 잘 적었던 것 같습니다.​제 스펙은 정처기, 단기 일 경험 1달, 한이음 공모전 입선 2회, 교내 IT 공모전 3~4회 수상 정도였습니다.면접 절차가 없는걸 알았기에, 이후에 면접으로 제 경험을 검증받지 않는다는 것을 알고 있어서(거짓말은 하지 않았습니다.)여러 다수의 대회 수상 경력이 있으니, 교육도 잘 해낼 것이라는 식으로 어필을 했습니다.​\n",
      "서류 합격\n",
      "결과는 합격이었습니다.​이후 절차는 인적성 + 코테이고 이걸 넘어서면 합격이었습니다.  개발자는 보통 서류는 잘 넘기고, 코테에서 떨어뜨리는 것을 알고 있기 때문에 코테 공부를 하긴 했습니다.당시에 C++로 공부를 하고 있었기 때문에 C++로 준비했고, 인프런 강좌 들으면서 공부했습니다. (광고 아님)​아 그리고 인적성..\n",
      "인적성 서적\n",
      "인적성을 본다고는 했는데 솔직히 책까지 사서 봐야 할까라는 생각에 준비 안 하고 유형도 하나도 모르고 들어갔습니다.이게 내용은 발설을 못하지만 인적성에 대한 제 의견은, 시험 시간이 길고 과목이 많고 문항도 많은데 이걸 노트북 모니터로 암산으로 풀어야 하기 때문에... (컴퓨터 메모장으로는 사실상 못씁니다.) 전 조금 버거웠습니다.DX Track이신 분들은 책 사서 풀어보시는 게 좋을 것 같고 AI Track은 코테 준비 더 하시는 걸 추천드립니다.모르는 건 찍으면 감점이 있을 거 같아서 정적하게 냈다는...​여튼... 지루한 KT 인적성은 그렇게 보냈고programmers로 코딩 테스트를 응시했습니다.3문제 봤고C++로 봤고 1문제는 정말 기초 너 코딩해 보긴 했니? 정도고 2문제는 그래도 적당항 알고리즘 문제였습니다.엄청 어렵진 않고 열심히 하면 될 것 같아요.(필자는 백준 실버입니다.)​\n",
      "최종 합격\n",
      "네 그렇게 기다리니 최종 합격을 했습니다.​선발을 정말 많이 하다 보니 그렇게 많이 경쟁률이 높진 않은 것 같습니다.그러나 가끔 보면 불합격 사례가 나오니 신경은 써주셔야 할 것 같아요.6개월간 월에 훈련장려금으로 30만 원씩 준다는 점.KT 취업 연계가 있다는 점.(기대는 하지 말라고 하더라고요.)등이 메리트가 있어서 열심히 수강하기로 했습니다.​궁금한 내용이 있으면 댓글 남겨주시면 글 남겨드릴게요.​감사합니다.\n"
     ]
    }
   ],
   "source": [
    "tmp = '\\n'.join(text)\n",
    "print(tmp)"
   ]
  },
  {
   "cell_type": "code",
   "execution_count": null,
   "metadata": {},
   "outputs": [],
   "source": [
    "url_number = [223353474363, 223353602475, 223363340648, 223369341688, 223379268158, 223379283550, 223384752104, 223392367141, 223399387919, 223410231594, 223413389107, 223430137996, 223430185140, 223437808599, 223447029386, 223452981951]\n",
    "for n in url_number:\n",
    "    url=f'https://blog.naver.com/PostView.naver?blogId=kyudori46&logNo={n}&redirect=Dlog&widgetTypeCall=true&noTrackingCode=true&directAccess=false'\n",
    "    response = requests.get(url)\n",
    "    dom = BeautifulSoup(response.text, 'html.parser')\n",
    "    elements = dom.select('.se-module-text')\n",
    "    text = [element.text.strip() for element in elements]"
   ]
  },
  {
   "cell_type": "code",
   "execution_count": 28,
   "metadata": {},
   "outputs": [
    {
     "data": {
      "text/plain": [
       "<Response [200]>"
      ]
     },
     "execution_count": 28,
     "metadata": {},
     "output_type": "execute_result"
    }
   ],
   "source": [
    "url='https://samuel-oh.tistory.com/2'\n",
    "response = requests.get(url)\n",
    "response"
   ]
  },
  {
   "cell_type": "code",
   "execution_count": 29,
   "metadata": {},
   "outputs": [
    {
     "data": {
      "text/plain": [
       "bs4.BeautifulSoup"
      ]
     },
     "execution_count": 29,
     "metadata": {},
     "output_type": "execute_result"
    }
   ],
   "source": [
    "dom = BeautifulSoup(response.text, 'html.parser')\n",
    "type(dom)"
   ]
  },
  {
   "cell_type": "code",
   "execution_count": 30,
   "metadata": {},
   "outputs": [
    {
     "name": "stdout",
     "output_type": "stream",
     "text": [
      "[KT AIVLE SCHOOL] AI 트랙 5기 합격 후기\n",
      "KT AIVLE SCHOOL AI 트랙 5기\n",
      "\n",
      "공식홈페이지 합격 여부 화면\n",
      "\n",
      "24년 2월 20일부터\n",
      "KT AIVLE SCHOOL 5기 AI 트랙에 함께 하게 됐어요.\n",
      "\n",
      "약 6개월간(~24년 8월 7일) AI에 대하여 공부하면서 개발역량을 키울 수 있는 정말 좋은 기회여서 기대가 됩니다:)\n",
      "국비지원으로 진행되는 사업으로\n",
      "6개월간 1000만 원 이상의 금액을 국가에서 지원해 주는!!\n",
      "정말 좋은 기회라는 걸 알게 됐어요.\n",
      "\n",
      "5기 AI를 지원하면서\n",
      "1. 자기소개서\n",
      "2. 인적성 시험 (시험일 : 24. 01. 13(토) / 3시간 30분 )\n",
      "3. 코딩 시험(AI 트랙만) (시험일 : 24. 01. 14(일) / 3시간)\n",
      "을 통해서 붙게 됐어요.\n",
      "\n",
      "통상적으로 인적성은 전자책으로 한번 풀어보시는 걸 추천해 주시더라고요.\n",
      "개인적으로는 공부를 따로 못했지만, 최선을 다해서 풀었던 기억이 있어요..!\n",
      "\n",
      "그리고 코딩 시험은 파이썬기준으로 프로그래머스 1-2단계를 푸실 수 있을 정도면\n",
      "부담 없이 준비할 수 있다고 들었어요.\n",
      "\n",
      "그래서 프로그래머스 기초 0단계부터 2단계까지 공부하면서 손에 익숙해지려고 노력했고,\n",
      "제가 공부하면서 얻었던 꿀팁은\n",
      "'내가 풀어본 이후 무조건 다른 사람의 답안을 봐라!!'\n",
      "\n",
      "제가 풀어보면서 고민한 이후에\n",
      "다른 분들의 숏코딩을 보면서 생각정리를 하니\n",
      "확실히 효율적인 부분을 더 배울 수 있어서 도움이 됐어요.\n",
      "\n",
      "그리고 최종 합격 일자는 24.01.22(월)!\n",
      "\n",
      "\n",
      "\n",
      "이렇게 안내 메일을 통하여\n",
      "공식홈페이지에서 합격 여부를 알 수 있었어요.\n",
      "인적성과 코딩테스트가 부족하다고 생각했지만,\n",
      "합격해서 정말 기뻤어요!!\n",
      "\n",
      "부족하다고 생각하셔서 걱정하시는 분들도\n",
      "일단 도전해 보시는걸 꼭 추천드려요:)\n",
      "\n"
     ]
    }
   ],
   "source": [
    "title = dom.select_one('title')\n",
    "title = title.text\n",
    "\n",
    "elements = dom.select('#article-view > div > p')\n",
    "text = [element.text.strip() for element in elements]\n",
    "\n",
    "print(title+'\\n\\n'+'\\n'.join(text))"
   ]
  },
  {
   "cell_type": "code",
   "execution_count": 70,
   "metadata": {},
   "outputs": [
    {
     "data": {
      "text/plain": [
       "<Response [200]>"
      ]
     },
     "execution_count": 70,
     "metadata": {},
     "output_type": "execute_result"
    }
   ],
   "source": [
    "url='https://velog.io/@o_o_o/AIVLE-3주차1-1차-미니-프로젝트'\n",
    "response = requests.get(url)\n",
    "response"
   ]
  },
  {
   "cell_type": "code",
   "execution_count": 71,
   "metadata": {},
   "outputs": [
    {
     "data": {
      "text/plain": [
       "bs4.BeautifulSoup"
      ]
     },
     "execution_count": 71,
     "metadata": {},
     "output_type": "execute_result"
    }
   ],
   "source": [
    "dom = BeautifulSoup(response.text, 'html.parser')\n",
    "type(dom)"
   ]
  },
  {
   "cell_type": "code",
   "execution_count": 72,
   "metadata": {},
   "outputs": [
    {
     "name": "stdout",
     "output_type": "stream",
     "text": [
      "[AIVLE] 3주차(2): 웹크롤링(1)\n",
      "\n",
      "\n",
      "http://news.naver.com:80/main/read.nhn?mode=LSD&mid=shm&sid1=105&oid=001&aid=0009847211#da_727145\n",
      "Protocol : https://\n",
      "Sub Domain : news (IP 주소와 맵핑)\n",
      "Primary Domain : naver.com\n",
      "Port : 80\n",
      "Path : /main/\n",
      "Page (File: html, png, pdf) : read.nhn\n",
      "Query : mode=LSD\n",
      "Fragment : #da_727145\n",
      "URL에 Query 포함\n",
      "Query(데이터) 노출, 전송 가능 데이터 작음\n",
      "Body에 Query 포함\n",
      "Query(데이터) 비노출, 전송 가능 데이터 많음\n",
      "Client와 Server가 데이터를 주고 받은 결과 정보\n",
      "Client의 Browser에 저장하는 문자열 데이터\n",
      "서버에서 사용자의 PC에 정보를 저장\n",
      "사용 예시: 로그인 정보, 내가 봤던 상품 정보, 팝업 다시보지 않음 등\n",
      "쿠팡에서 자전거를 검색 -> 자전거를 쿠키에 저장 -> 다른 페이지에서 캐시에 저장된 자전거를 바탕으로 광고를 띄움\n",
      "Client의 Browser와 Server의 연결 정보\n",
      "서버 측에 저장\n",
      "사용 예시: 자동 로그인\n",
      "Client, Server의 RAM(메모리)에 저장하는 데이터\n",
      "RAM에 데이터를 저장하면 데이터 입출력이 빠름\n",
      "웹 서비스의 여러 페이지를 이동하며 데이터를 수집하는 작업\n",
      "웹 페이지 종류\n",
      "Daum 사이트처럼 파이썬 접근이 막혀있을 경우 : header를 임의로 조작하여 실제 사용자로 속여서 request를 보냄 (Daum은 추가적으로 Referer을 조작해야함)\n",
      "Representational State Transfer\n",
      "Client와 Server가 통신하기 위한 URL 구조에 대한 정의 및 디자인\n",
      "HTTP 표준 프로토콜을 따르는 모든 플랫폼에서 사용 가능\n",
      "REST의 원리를 따르는 API\n"
     ]
    }
   ],
   "source": [
    "title = dom.select_one('.head-wrapper > h1')\n",
    "title = title.text\n",
    "\n",
    "elements = dom.select('.sc-eGURor > h2, p')\n",
    "text = [element.text.strip() for element in elements]\n",
    "\n",
    "print(title+'\\n\\n'+'\\n'.join(text))"
   ]
  },
  {
   "cell_type": "code",
   "execution_count": 90,
   "metadata": {},
   "outputs": [
    {
     "data": {
      "text/plain": [
       "'KT 에이블스쿨은 정규 4년제 대학 졸업자 및 졸업예정자를 대상으로 하는 교육입니다. 전공에 관계 없이 명시된 지원 자격에 부합한다면 모두 지원 가능합니다.\\xa0다만, AI개발자 Track은 기본적인 코딩역량이 필요합니다.\\r\\n'"
      ]
     },
     "execution_count": 90,
     "metadata": {},
     "output_type": "execute_result"
    }
   ],
   "source": [
    "cookies = {\n",
    "    \"SESSION\": \"a77fbcaf-07ea-4e09-9235-a5dd7ae94daa\",\n",
    "    \"TS01e6903a\": \"01a4caa0eff5d5a833fafc306edab6a6b28194c7cacfefdeec9513bbba08345b6fc006eebd87626dff6bd9d27b459b9a3650c9224544f17c477bb2b41ab3b9338b3870e4a2\"\n",
    "}\n",
    "\n",
    "url=f\"https://aivle.kt.co.kr/home/brd/faq/listJson?ctgrCd=&pageIndex=1\"\n",
    "response=requests.get(url=url, cookies=cookies)\n",
    "data_json=response.json()\n",
    "data_json['returnList'][0]['ctgrNm']\n",
    "' '.join(data_json['returnList'][0]['atclTitle'].split(' ')[1:-1])\n",
    "data_json['returnList'][0]['atclCts']"
   ]
  },
  {
   "cell_type": "code",
   "execution_count": 91,
   "metadata": {},
   "outputs": [
    {
     "data": {
      "text/plain": [
       "<Response [200]>"
      ]
     },
     "execution_count": 91,
     "metadata": {},
     "output_type": "execute_result"
    }
   ],
   "source": [
    "url='https://corp.kt.com/html/promote/news/report_detail.html?rows=10&page=1&datNo=18363'\n",
    "response = requests.get(url)\n",
    "response"
   ]
  },
  {
   "cell_type": "code",
   "execution_count": 92,
   "metadata": {},
   "outputs": [
    {
     "data": {
      "text/plain": [
       "bs4.BeautifulSoup"
      ]
     },
     "execution_count": 92,
     "metadata": {},
     "output_type": "execute_result"
    }
   ],
   "source": [
    "dom = BeautifulSoup(response.text, 'html.parser')\n",
    "type(dom)"
   ]
  },
  {
   "cell_type": "code",
   "execution_count": 93,
   "metadata": {},
   "outputs": [
    {
     "data": {
      "text/plain": [
       "<!--\n",
       "   KT.com version 1.0\n",
       "\n",
       "   Copyright â 2017 kt corp. All rights reserved.\n",
       "\n",
       "   This is a proprietary software of kt corp, and you may not use this file except in\n",
       "   compliance with license agreement with kt corp. Any redistribution or use of this\n",
       "   software, with or without modification shall be strictly prohibited without prior written\n",
       "   approval of kt corp, and the copyright notice above does not evidence any actual or\n",
       "   intended publication of such software.\n",
       "-->\n",
       "<!DOCTYPE html>\n",
       "\n",
       "<html lang=\"ko-KR\">\n",
       "<head>\n",
       "<meta charset=\"utf-8\"/>\n",
       "<meta content=\"IE=edge\" http-equiv=\"X-UA-Compatible\"/>\n",
       "<meta content=\"kt, ì¼ì´í°, kt.com, ktë·ì»´, ì¼ì´í°ë·ì»´, olleh, ì¬ë , ktê¸°ì\n",
       ", kt ê¸°ì\n",
       ", kt íì¬ìê°, ktíì¬ìê°, íì¬ìê°\" name=\"Keywords\"/>\n",
       "<meta content=\"ë ë³ííë KTì ìµì  ììì ì í´ëë¦½ëë¤.\" name=\"Description\"/>\n",
       "<title>ë³´ëìë£ ìì¸ | KT</title>\n",
       "<link href=\"../../../css/vendor/components.css\" rel=\"stylesheet\" type=\"text/css\"/>\n",
       "<link href=\"../../../css/main.css\" rel=\"stylesheet\" type=\"text/css\"/>\n",
       "<link href=\"../../../css/promotion.css\" rel=\"stylesheet\" type=\"text/css\"/>\n",
       "<script src=\"../../../js/vendor/modernizr-custom.js\" type=\"text/javascript\"></script>\n",
       "<script type=\"text/javascript\">var ktMenuCd = '5EBA00';</script>\n",
       "<script src=\"/_common/js/common/global/KTGlobal.js\" type=\"text/javascript\"></script>\n",
       "<script type=\"text/javascript\">\n",
       "\t\ts.pageName=\"^www^kt-íì¬ìê°^íë³´ì¼í°^ë´ì¤^ë³´ëìë£^ë³´ëìë£ ìì¸\";\n",
       "\n",
       "\t</script>\n",
       "</head>\n",
       "<body>\n",
       "<div id=\"cfmIrWrapper\">\n",
       "<!-- cfmIrSkip -->\n",
       "<div id=\"cfmIrSkip\">\n",
       "<a href=\"#cfmIrGnb\">ì£¼ë©ë´ ë°ë¡ ê°ê¸°</a>\n",
       "<a href=\"#cfmIrContents\">ë³¸ë¬¸ ë°ë¡ê°ê¸°</a>\n",
       "</div>\n",
       "<!-- /cfmIrSkip -->\n",
       "<!-- cfmIrHeader -->\n",
       "<div id=\"cfmIrHeader\">\n",
       "<div class=\"floating-menu\"><script type=\"text/javascript\">kt.floating()</script></div>\n",
       "<div class=\"sub\" id=\"cfmIrGnb\"><script type=\"text/javascript\">kt.gnb()</script></div>\n",
       "</div>\n",
       "<!-- /cfmIrHeader -->\n",
       "<!-- cfmIrContainer -->\n",
       "<div id=\"cfmIrContainer\">\n",
       "<!-- cfmIrContents -->\n",
       "<div id=\"cfmIrContents\">\n",
       "<div class=\"visual news-title-area\">\n",
       "<div class=\"column\">\n",
       "<div class=\"inner\">\n",
       "<div class=\"location is-white\">\n",
       "<script type=\"text/javascript\">kt.locationBar()</script>\n",
       "</div>\n",
       "<div class=\"hgroup\">\n",
       "<h3>ë³´ëìë£</h3>\n",
       "</div>\n",
       "</div>\n",
       "</div>\n",
       "</div>\n",
       "<div class=\"section-board\">\n",
       "<div class=\"column\">\n",
       "<div class=\"inner\">\n",
       "<div class=\"board-wrap top\">\n",
       "<div class=\"board-inner\">\n",
       "<strong></strong>\n",
       "<span></span>\n",
       "</div>\n",
       "</div>\n",
       "<div class=\"headline\">\n",
       "<div class=\"img-headline\"></div>\n",
       "<div class=\"hash left bottom-hash\">\n",
       "<div class=\"hash-over\"></div>\n",
       "</div>\n",
       "<table class=\"board dir-horizontal board-line\">\n",
       "<caption class=\"invisible\">ë³´ëìë£ ì´ì ê¸ / ë¤ìê¸ ì ëª©ì ëíë¸ íì\n",
       "ëë¤..</caption>\n",
       "<colgroup>\n",
       "<col style=\"width:160px\"/>\n",
       "<col/>\n",
       "</colgroup>\n",
       "<tbody></tbody>\n",
       "</table>\n",
       "</div>\n",
       "<div class=\"btn-list\">\n",
       "<a class=\"btn large is-navygray\" href=\"#\">ëª©ë¡</a>\n",
       "</div>\n",
       "</div>\n",
       "</div>\n",
       "</div>\n",
       "</div>\n",
       "<!-- /cfmIrContents -->\n",
       "</div>\n",
       "<!-- /cfmIrContainer -->\n",
       "<!-- cfmIrFooter -->\n",
       "<div id=\"cfmIrFooter\"><script type=\"text/javascript\">kt.footer()</script></div>\n",
       "<!-- /cfmIrFooter -->\n",
       "</div>\n",
       "<!-- script -->\n",
       "<script src=\"../../../js/vendor/jquery.easing.1.3.js\" type=\"text/javascript\"></script>\n",
       "<script src=\"../../../js/plugin/conic-gradient.js\" type=\"text/javascript\"></script>\n",
       "<script src=\"../../../js/plugin/jquery.mousewheel.js\" type=\"text/javascript\"></script>\n",
       "<script src=\"../../../js/plugin/jquery.scrollTo.min.js\" type=\"text/javascript\"></script>\n",
       "<script src=\"../../../js/plugin/skrollr/skrollr.js\" type=\"text/javascript\"></script>\n",
       "<script src=\"../../../js/plugin/jquery.bxslider/jquery.fitvids.js\" type=\"text/javascript\"></script>\n",
       "<script src=\"../../../js/plugin/jquery.bxslider/jquery.bxslider.min.js\" type=\"text/javascript\"></script>\n",
       "<script src=\"../../../js/plugin/rangeslider/rangeslider.min.js\" type=\"text/javascript\"></script>\n",
       "<script src=\"../../../js/plugin/jquery.shapeshift/jquery.shapeshift.min.js\" type=\"text/javascript\"></script>\n",
       "<script src=\"../../../js/sub.js\" type=\"text/javascript\"></script>\n",
       "<!-- /script -->\n",
       "<script type=\"text/javascript\">\n",
       "\tvar params = {};\t// íë¼ë¯¸í°\n",
       "\n",
       "\t$j(init);\n",
       "\n",
       "\tfunction init() {\n",
       "\t\t// ì´ë²¤í¸ë±ë¡\n",
       "\t\t$j('.btn-list').find('a').on('click', list);\t// ëª©ë¡ ë²í¼\n",
       "\n",
       "\t\t// ê²ìì¡°ê±´ì¸í\n",
       "\n",
       "\t\tparams = kt_common.queryToObject();\n",
       "\n",
       "\t\tloadData();\n",
       "\t}\n",
       "\n",
       "\t// ìì¸ì¡°í\n",
       "\tfunction loadData() {\n",
       "\t\t// api ë°ì´í°\n",
       "\t\tvar data = {};\n",
       "\n",
       "\t\tif(kt_common.isNull(params.rows) !== '') {\n",
       "\t\t\tdata.limit = params.rows;\t// ê¸ì\n",
       "\t\t\tdata.offset = params.rows * (params.page - 1) + 1;\t// ììê¸ ì¸ë±ì¤\n",
       "\t\t}\n",
       "\n",
       "\t\tif(kt_common.isNull(params.hash) !== '') {\n",
       "\t\t\tdata.tagNo = params.hash;\n",
       "\t\t}\n",
       "\n",
       "\t\t/*if(kt_common.isNull(params.searchWord) !== '') {\n",
       "\t\t\tdata.title = params.searchWord;\n",
       "\t\t}*/\n",
       "\n",
       "\t\tdata.langDivType = 'KOR';\n",
       "\t\t// api ë°ì´í°\n",
       "\n",
       "\t\tkt_common.api({\n",
       "\t\t\t'url' : 'corp/presses/v1.0/articles/' + params.datNo,\n",
       "\t\t\t'type' : 'get',\n",
       "\t\t\t'data' : data,\n",
       "\t\t\t'callback' : callbackData\n",
       "\t\t});\n",
       "\t}\n",
       "\n",
       "\t// ì½ë°±í¨ì\n",
       "\tfunction callbackData(type, result) {\n",
       "\t\ttry {\n",
       "\t\t\tif(type === 'success') {\n",
       "\t\t\t\tif(kt_common.isNull(result.data) !== '') {\n",
       "\t\t\t\t\tvar info = result.data.pressResourceInfo;\n",
       "\t\t\t\t\tvar imgList = result.data.pressResourceAtcImgList;\n",
       "\t\t\t\t\tvar hashList = result.data.pressResourceHashTagList;\n",
       "\n",
       "\t\t\t\t\tvar $inner = $j('.board-inner');\n",
       "\t\t\t\t\t$inner.find('strong').html(info.title);\n",
       "\t\t\t\t\t$inner.find('span').html(info.extrnOpenDate.substring(0, 10));\n",
       "\t\t\t\t\t$j('.headline').prepend(kt_common.tagReplaceAll(info.cont));\n",
       "\n",
       "\t\t\t\t\tif(kt_common.isNull(imgList) !== '' && imgList.length > 0) {\n",
       "\t\t\t\t\t\tvar imgHtml = '';\n",
       "\t\t\t\t\t\t$j.each(imgList, function(idx, imgData) {\n",
       "\t\t\t\t\t\t\t// add 18.01.11 (91188369) ë³´ëìë£ ì¬ì§ ì ì´\n",
       "\t\t\t\t\t\t\tif(imgData.dispYn == 'Y'){\n",
       "\t\t\t\t\t\t\t\t// ì´ë¯¸ì§ íì\n",
       "\n",
       "\t\t\t\t\t\t\t\tvar imgPath = \"\";\n",
       "\t\t\t\t\t\t\t\tif(imgData.imgType == '01'){\n",
       "\t\t\t\t\t\t\t\t\t// url : saveImgPath\n",
       "\t\t\t\t\t\t\t\t\timgPath = imgData.saveImgPath;\n",
       "\t\t\t\t\t\t\t\t}else if(imgData.imgType == '02'){\n",
       "\t\t\t\t\t\t\t\t\t// path : upldImgPath\n",
       "\t\t\t\t\t\t\t\t\timgPath = imgData.upldImgPath + imgData.saveImgNm;\n",
       "\t\t\t\t\t\t\t\t}\n",
       "\n",
       "\t\t\t\t\t\t\t\tvar imgCss = '';\n",
       "\t\t\t\t\t\t\t\t// ì´ë¯¸ì§ í¬ê¸°\n",
       "\t\t\t\t\t\t\t\tif(imgData.imgSizeType == '02'){\n",
       "\t\t\t\t\t\t\t\t\t// ê°ë¡\n",
       "\t\t\t\t\t\t\t\t\timgCss = 'width=\"'+ imgData.imgWdthSize +'px\"';\n",
       "\t\t\t\t\t\t\t\t}else if(imgData.imgSizeType == '03'){\n",
       "\t\t\t\t\t\t\t\t\t// ê°ë¡*ì¸ë¡\n",
       "\t\t\t\t\t\t\t\t\timgCss = 'width=\"'+ imgData.imgWdthSize +'px\" height=\"'+imgData.imgVrtcSize+'px\"';\n",
       "\t\t\t\t\t\t\t\t}\n",
       "\t\t\t\t\t\t\t\timgHtml += '<div><img src=\"' + imgPath + '\" alt=\"' + imgData.altText + '\" '+imgCss+'></div>';\n",
       "\t\t\t\t\t\t\t}\n",
       "\t\t\t\t\t\t});\n",
       "\t\t\t\t\t\t$j('.img-headline').html(imgHtml);\n",
       "\t\t\t\t\t}\n",
       "\n",
       "\t\t\t\t\tif(kt_common.isNull(hashList) !== '' && hashList.length > 0) {\n",
       "\t\t\t\t\t\tvar $hash = $j('.hash-over');\n",
       "\t\t\t\t\t\tvar hashHtml = '';\n",
       "\t\t\t\t\t\t$j.each(hashList, function(idx, hashData) {\n",
       "\t\t\t\t\t\t\thashHtml += '<a href=\"#\" data-tagno=\"' + hashData.tagNo + '\">#' + hashData.tagNm + '</a>&nbsp;';\n",
       "\t\t\t\t\t\t});\n",
       "\t\t\t\t\t\t$hash.append(hashHtml);\n",
       "\n",
       "\t\t\t\t\t\t$hash.find('a').on('click', function() {\n",
       "\t\t\t\t\t\t\tparams = {};\n",
       "\t\t\t\t\t\t\tparams.hash = $j(this).data('tagno');\n",
       "\n",
       "\t\t\t\t\t\t\tlist();\n",
       "\t\t\t\t\t\t});\t// í´ìíê·¸ ë²í¼\n",
       "\t\t\t\t\t}\n",
       "\n",
       "\t\t\t\t\tvar $tbody = $j('.board-line').find('tbody');\n",
       "\t\t\t\t\tvar prevHtml = '';\n",
       "\t\t\t\t\tvar nextHtml = '';\n",
       "\t\t\t\t\tif(kt_common.isNull(info.preDatNo) !== '') {\n",
       "\t\t\t\t\t\tprevHtml += '<tr>';\n",
       "\t\t\t\t\t\tprevHtml += '\t<th scope=\"row\"><a href=\"#\" data-datno=\"' + info.preDatNo + '\" class=\"prev\" onclick=\"KT_trackClicks(\\'KT-IR_ë³´ëìë£ ìì¸\\',\\'^KT-IR_ë³´ëìë£ ìì¸^ì´ì ê¸\\');\">ì´ì ê¸</a></th>';\n",
       "\t\t\t\t\t\tprevHtml += '\t<td><a href=\"#\" data-datno=\"' + info.preDatNo + '\" onclick=\"KT_trackClicks(\\'KT-IR_ë³´ëìë£ ìì¸\\',\\'^KT-IR_ë³´ëìë£ ìì¸^ì´ì ê¸\\');\">' + info.preTitle + '</a><span class=\"reverse\">' + info.preExtrnOpenDate.substring(0, 10) + '</span></td>';\n",
       "\t\t\t\t\t\tprevHtml += '</tr>';\n",
       "\t\t\t\t\t} else {\n",
       "\t\t\t\t\t\tprevHtml += '<tr>';\n",
       "\t\t\t\t\t\tprevHtml += '\t<th scope=\"row\"><span class=\"prev\">ì´ì ê¸</span></th>';\n",
       "\t\t\t\t\t\tprevHtml += '\t<td>ì´ì ê¸ì´ ììµëë¤.</td>';\n",
       "\t\t\t\t\t\tprevHtml += '</tr>';\n",
       "\t\t\t\t\t}\n",
       "\n",
       "\t\t\t\t\tif(kt_common.isNull(info.nextDatNo) !== '') {\n",
       "\t\t\t\t\t\tnextHtml += '<tr>';\n",
       "\t\t\t\t\t\tnextHtml += '\t<th scope=\"row\"><a href=\"#\" data-datno=\"' + info.nextDatNo + '\" class=\"next\" onclick=\"KT_trackClicks(\\'KT-IR_ë³´ëìë£ ìì¸\\',\\'^KT-IR_ë³´ëìë£ ìì¸^ë¤ìê¸\\');\">ë¤ìê¸</a></th>';\n",
       "\t\t\t\t\t\tnextHtml += '\t<td><a href=\"#\" data-datno=\"' + info.nextDatNo + '\" onclick=\"KT_trackClicks(\\'KT-IR_ë³´ëìë£ ìì¸\\',\\'^KT-IR_ë³´ëìë£ ìì¸^ë¤ìê¸\\');\">' + info.nextTitle + '</a><span class=\"reverse\">' + info.nextExtrnOpenDate.substring(0, 10) + '</span></td>';\n",
       "\t\t\t\t\t\tnextHtml += '</tr>';\n",
       "\t\t\t\t\t} else {\n",
       "\t\t\t\t\t\tnextHtml += '<tr>';\n",
       "\t\t\t\t\t\tnextHtml += '\t<th scope=\"row\"><span class=\"next\">ë¤ìê¸</span></th>';\n",
       "\t\t\t\t\t\tnextHtml += '\t<td>ë¤ìê¸ì´ ììµëë¤.</td>';\n",
       "\t\t\t\t\t\tnextHtml += '</tr>';\n",
       "\t\t\t\t\t}\n",
       "\n",
       "\t\t\t\t\t$tbody.append(prevHtml + nextHtml);\n",
       "\n",
       "\t\t\t\t\t$tbody.find('a').on('click', view);\t// ì´ì ê¸, ë¤ìê¸\n",
       "\t\t\t\t}\n",
       "\t\t\t}\n",
       "\t\t} catch(e) {\n",
       "\t\t\tcommon_log.log('ìëµíì±ì¤ë¥ê° ë°ìíììµëë¤.(' + e.message + ')');\n",
       "\t\t}\n",
       "\t}\n",
       "\n",
       "\t// ì¡°í\n",
       "\tfunction view(event) {\n",
       "\t\tparams.datNo = $j(event.target).data('datno');\n",
       "\n",
       "\t\tkt_common.link('/html/promote/news/report_detail.html?' + kt_common.objectToQuery(params));    // ë§í¬\n",
       "\t}\n",
       "\n",
       "\t// ëª©ë¡\n",
       "\tfunction list() {\n",
       "\t\tdelete params.datNo;\n",
       "\n",
       "\t\tkt_common.link('/html/promote/news/report_list.html?' + kt_common.objectToQuery(params), '_self', 'KT-IR_ë³´ëìë£ ìì¸', '^KT-IR_ë³´ëìë£ ìì¸^ëª©ë¡');    // ë§í¬\n",
       "\t}\n",
       "</script>\n",
       "</body>\n",
       "</html>"
      ]
     },
     "execution_count": 93,
     "metadata": {},
     "output_type": "execute_result"
    }
   ],
   "source": [
    "dom"
   ]
  }
 ],
 "metadata": {
  "kernelspec": {
   "display_name": "qa_system",
   "language": "python",
   "name": "python3"
  },
  "language_info": {
   "codemirror_mode": {
    "name": "ipython",
    "version": 3
   },
   "file_extension": ".py",
   "mimetype": "text/x-python",
   "name": "python",
   "nbconvert_exporter": "python",
   "pygments_lexer": "ipython3",
   "version": "3.11.9"
  }
 },
 "nbformat": 4,
 "nbformat_minor": 2
}
